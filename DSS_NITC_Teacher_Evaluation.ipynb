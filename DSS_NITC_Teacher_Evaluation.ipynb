{
  "nbformat": 4,
  "nbformat_minor": 0,
  "metadata": {
    "colab": {
      "name": "DSS_NITC_Teacher_Evaluation.ipynb",
      "provenance": [],
      "collapsed_sections": [],
      "authorship_tag": "ABX9TyMf3eMn9C4Du9doX/z0D0Ye",
      "include_colab_link": true
    },
    "kernelspec": {
      "name": "python3",
      "display_name": "Python 3"
    },
    "language_info": {
      "name": "python"
    }
  },
  "cells": [
    {
      "cell_type": "markdown",
      "metadata": {
        "id": "view-in-github",
        "colab_type": "text"
      },
      "source": [
        "<a href=\"https://colab.research.google.com/github/lokeshtarala/NITC_DSS_Automated_Teacher_Evaluation/blob/main/DSS_NITC_Teacher_Evaluation.ipynb\" target=\"_parent\"><img src=\"https://colab.research.google.com/assets/colab-badge.svg\" alt=\"Open In Colab\"/></a>"
      ]
    },
    {
      "cell_type": "markdown",
      "metadata": {
        "id": "BX85zlPctx54"
      },
      "source": [
        "This is a Google Colab implementation of [NITC-DSS-Automatic-Teacher-Evaluation](https://github.com/afeedh/NITC-DSS-Automatic-Teacher-Evaluation) by [Afeedh Shaji](https://github.com/afeedh)\n",
        "\n",
        "Please contact me if you face any problem: lokeshtarala@gmail.com\n",
        "#You can run each cell by pressing shift + enter.\n",
        "#**NOTE: None of your details are stored.**\n",
        "---\n",
        "\n",
        "\n",
        "\n",
        "**Run the below cell first to install neccessary packages.**"
      ]
    },
    {
      "cell_type": "code",
      "metadata": {
        "id": "510EUl7tWNkf"
      },
      "source": [
        "!apt update\n",
        "!apt install chromium-chromedriver\n",
        "!pip install selenium\n",
        "from selenium import webdriver\n",
        "options = webdriver.ChromeOptions()\n",
        "options.add_argument('--headless')\n",
        "options.add_argument('--no-sandbox')\n",
        "options.add_argument('--disable-dev-shm-usage')"
      ],
      "execution_count": null,
      "outputs": []
    },
    {
      "cell_type": "markdown",
      "metadata": {
        "id": "S1HrGgHcuYQB"
      },
      "source": [
        "**After the installation is complete, run the below cell and give the inputs as asked.**\n",
        "\n"
      ]
    },
    {
      "cell_type": "code",
      "metadata": {
        "id": "XKCDDEcoWc1w"
      },
      "source": [
        "from selenium.webdriver.common.keys import Keys\n",
        "import time\n",
        "import sys\n",
        "\n",
        "\n",
        "class dss_bot:\n",
        "    def __init__(self, username, password):\n",
        "        self.username = username\n",
        "        self.password = password\n",
        "        self.bot = webdriver.Chrome(options=options)\n",
        "\n",
        "\n",
        "    def login(self):\n",
        "        bot = self.bot\n",
        "        bot.get('http://dss.nitc.ac.in/nitcreg/RegLogin.aspx')\n",
        "        email = bot.find_element_by_id('txtuname')\n",
        "        password = bot.find_element_by_id('txtpassword')\n",
        "        email.clear()\n",
        "        password.clear()\n",
        "        email.send_keys(self.username)\n",
        "        try:\n",
        "          password.send_keys(self.password)\n",
        "        except:\n",
        "          print(\"wrong password enter\")\n",
        "          sys.exit()\n",
        "        password.send_keys(Keys.RETURN)\n",
        "    def not_a_number(grade):\n",
        "      if grade not in [1,2,3,4,5]:\n",
        "        grade = int(input(\"Enter only one number from 1 to 5: \"))\n",
        "        grade = not_a_number(grade)\n",
        "      else: return grade\n",
        "\n",
        "    def do_stuff(self):\n",
        "        bot = self.bot\n",
        "        bot.get('http://dss.nitc.ac.in/nitcreg/tlogin.aspx')\n",
        "        html= bot.find_element_by_xpath(\".//html\")\n",
        "\n",
        "        if ('completed' in html.text):\n",
        "            print(\"You've already completed the teacher evaluation\")\n",
        "            sys.exit()\n",
        "            \n",
        "        selects = bot.find_elements_by_id('ddlcourse')\n",
        "        for select in selects:\n",
        "            options = [x for x in select.find_elements_by_tag_name(\"option\")]\n",
        "        print(\"Total number of subjects:\",len(options))\n",
        "        print(\"Type number: \\n1 for Excellent, \\n2 for very good,\\n3 for good, \\n4 for fair, \\n5 for poor\\n\")\n",
        "        while(len(options) > 0):\n",
        "          try:\n",
        "            bot.find_element_by_id('Button3').click()\n",
        "            alert = bot.switch_to.alert\n",
        "            alert.accept()\n",
        "            select_box = bot.find_element_by_id('ddlteacher')\n",
        "            options = [x for x in select_box.find_elements_by_tag_name(\"option\")]\n",
        "            for element in options:\n",
        "                print (\"\\nTeacher name:\",element.text)\n",
        "                grade = int(input(\"Enter rating: \"))\n",
        "                if(grade not in [1,2,3,4,5]):\n",
        "                  grade = not_a_number(grade) \n",
        "                rating = {1:'Excellent',2:'Very Good',3:'Good',4:'Fair',5:'Poor'}\n",
        "            bot.find_element_by_id('Button1').click()\n",
        "            selects = bot.find_elements_by_tag_name('select')\n",
        "            for select in selects:\n",
        "                options = [x for x in select.find_elements_by_tag_name(\"option\")]\n",
        "                for option in options:\n",
        "                    if (option.text == rating[grade]):\n",
        "                        option.click()\n",
        "                    elif(option.text == '90'):\n",
        "                        option.click()\n",
        "                    elif(option.text == 'Yes'):\n",
        "                        option.click() \n",
        "                   \n",
        "            bot.find_element_by_id('Button1').click()\n",
        "          except:\n",
        "            print('\\nEvaluation complete.')\n",
        "            break\n",
        "\n",
        "\n",
        "\n",
        "username = input(\"Enter your username:\")\n",
        "print(\"\\n\")\n",
        "password = input(\"Enter your password:\")\n",
        "print(\"\\n\")\n",
        "x = dss_bot(username,password) \n",
        "x.login()\n",
        "x.do_stuff()"
      ],
      "execution_count": null,
      "outputs": []
    }
  ]
}